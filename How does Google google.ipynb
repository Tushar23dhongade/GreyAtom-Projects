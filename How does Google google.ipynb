{
 "cells": [
  {
   "cell_type": "markdown",
   "metadata": {},
   "source": [
    "# Calculate the top ranked page with eigenvector decomposition"
   ]
  },
  {
   "cell_type": "code",
   "execution_count": 1,
   "metadata": {},
   "outputs": [
    {
     "name": "stdout",
     "output_type": "stream",
     "text": [
      "Eigen Values: [ 1.00000000e+00+0.j          4.25120071e-01+0.29140214j\n",
      "  4.25120071e-01-0.29140214j -8.70211033e-01+0.j\n",
      " -2.11618701e-01+0.2512476j  -2.11618701e-01-0.2512476j\n",
      "  1.73354634e-16+0.j         -5.56791707e-01+0.j        ]\n",
      "Eigen Vectors: [[-1.40047079e-01+0.j         -1.92904272e-01+0.10809205j\n",
      "  -1.92904272e-01-0.10809205j -1.76598003e-01+0.j\n",
      "  -2.30119499e-01+0.14524167j -2.30119499e-01-0.14524167j\n",
      "  -3.96520864e-16+0.j          2.19529399e-01+0.j        ]\n",
      " [-1.57552964e-01+0.j          2.57710691e-01+0.17664997j\n",
      "   2.57710691e-01-0.17664997j  7.71093416e-02+0.j\n",
      "   1.40259034e-01-0.01975904j  1.40259034e-01+0.01975904j\n",
      "   4.24843783e-17+0.j          2.67354481e-01+0.j        ]\n",
      " [-7.00235396e-02+0.j         -9.50699977e-02+0.19229774j\n",
      "  -9.50699977e-02-0.19229774j  1.01468492e-01+0.j\n",
      "   3.94731369e-01+0.12548263j  3.94731369e-01-0.12548263j\n",
      "  -2.97390648e-16+0.j         -1.97137813e-01+0.j        ]\n",
      " [-1.57552964e-01+0.j          6.06206830e-01+0.j\n",
      "   6.06206830e-01-0.j         -8.86099333e-02+0.j\n",
      "  -3.21068876e-01-0.28782308j -3.21068876e-01+0.28782308j\n",
      "   1.98260432e-16+0.j         -4.80169653e-01+0.j        ]\n",
      " [-2.27576504e-01+0.j          1.59876416e-01+0.09244428j\n",
      "   1.59876416e-01-0.09244428j -2.00957154e-01+0.j\n",
      "  -4.84591833e-01+0.j         -4.84591833e-01-0.j\n",
      "  -8.01783726e-01+0.j          6.84021693e-01+0.j        ]\n",
      " [-4.72658893e-01+0.j         -1.71365901e-02-0.25244582j\n",
      "  -1.71365901e-02+0.25244582j  4.94974525e-01+0.j\n",
      "   2.31166384e-02+0.17167936j  2.31166384e-02-0.17167936j\n",
      "   2.67261242e-01+0.j         -7.92342800e-02+0.j        ]\n",
      " [-4.20141238e-01+0.j         -3.40517200e-01-0.03078185j\n",
      "  -3.40517200e-01+0.03078185j  4.61032592e-01+0.j\n",
      "   3.66179058e-02-0.26565847j  3.66179058e-02+0.26565847j\n",
      "  -8.97482491e-16+0.j         -3.66696447e-01+0.j        ]\n",
      " [-6.88564807e-01+0.j         -3.78165876e-01-0.28625637j\n",
      "  -3.78165876e-01+0.28625637j -6.68419861e-01+0.j\n",
      "   4.41055261e-01+0.13083692j  4.41055261e-01-0.13083692j\n",
      "   5.34522484e-01+0.j         -4.76673803e-02+0.j        ]]\n",
      "Eigen 1: [0.06   0.0675 0.03   0.0675 0.0975 0.2025 0.18   0.295 ]\n",
      "Most Important Page: 8\n"
     ]
    }
   ],
   "source": [
    "# Code starts here\n",
    "\n",
    "import numpy as np\n",
    "\n",
    "# Code starts here\n",
    "\n",
    "# Adjacency matrix\n",
    "adj_mat = np.array([[0,0,0,0,0,0,1/3,0],\n",
    "                   [1/2,0,1/2,1/3,0,0,0,0],\n",
    "                   [1/2,0,0,0,0,0,0,0],\n",
    "                   [0,1,0,0,0,0,0,0],\n",
    "                  [0,0,1/2,1/3,0,0,1/3,0],\n",
    "                   [0,0,0,1/3,1/3,0,0,1/2],\n",
    "                   [0,0,0,0,1/3,0,0,1/2],\n",
    "                   [0,0,0,0,1/3,1,1/3,0]])\n",
    "\n",
    "# Compute eigenvalues and eigencevectrs\n",
    "eigenvalues,eigenvectors = np.linalg.eig(adj_mat)\n",
    "print(\"Eigen Values:\",eigenvalues)\n",
    "print(\"Eigen Vectors:\",eigenvectors)\n",
    "\n",
    "# Eigen vector corresponding to 1\n",
    "eigen_1 = (abs(eigenvectors[:,0]) / np.linalg.norm(eigenvectors[:,0],1))\n",
    "\n",
    "# most important page\n",
    "most_imp_page = np.where(np.max(eigen_1) == eigen_1)[0][0] + 1\n",
    "print(\"Most Important Page:\",most_imp_page)\n",
    "\n",
    "# Code ends here"
   ]
  },
  {
   "cell_type": "markdown",
   "metadata": {},
   "source": [
    "# Calculate top ranked page with Power Method"
   ]
  },
  {
   "cell_type": "code",
   "execution_count": 3,
   "metadata": {},
   "outputs": [
    {
     "name": "stdout",
     "output_type": "stream",
     "text": [
      "[0.06730348 0.06450046 0.02690615 0.07000171 0.10489779 0.18293229\n",
      " 0.16304203 0.3204161 ]\n",
      "8\n"
     ]
    }
   ],
   "source": [
    "# Code starts here\n",
    "\n",
    "# Initialize stationary vector I\n",
    "init_I = np.array([1,0,0,0,0,0,0,0])\n",
    "\n",
    "# Perform iterations for power method\n",
    "for _ in range(10):\n",
    "    init_I = np.dot(adj_mat, init_I)\n",
    "    init_I /= np.linalg.norm(init_I, 1)\n",
    "\n",
    "\n",
    "print(init_I)\n",
    "power_page = np.where(np.max(init_I) == init_I)[0][0] + 1\n",
    "print(power_page)\n",
    "\n",
    "# Code ends here"
   ]
  },
  {
   "cell_type": "markdown",
   "metadata": {},
   "source": [
    "# Problem with Power Method"
   ]
  },
  {
   "cell_type": "code",
   "execution_count": 8,
   "metadata": {},
   "outputs": [
    {
     "name": "stdout",
     "output_type": "stream",
     "text": [
      "[0.         0.00308642 0.         0.00617284 0.13327064 0.21433738\n",
      " 0.21125096 0.43188175]\n",
      "====================\n"
     ]
    }
   ],
   "source": [
    "# Code starts here\n",
    "\n",
    "# New Adjancency matrix\n",
    "new_adj_mat = np.array([[0,0,0,0,0,0,0,0],\n",
    "                   [1/2,0,1/2,1/3,0,0,0,0],\n",
    "                  [1/2,0,0,0,0,0,0,0],\n",
    "                   [0,1,0,0,0,0,0,0],\n",
    "                   [0,0,1/2,1/3,0,0,1/2,0],\n",
    "                   [0,0,0,1/3,1/3,0,0,1/2],\n",
    "                   [0,0,0,0,1/3,0,0,1/2],\n",
    "                   [0,0,0,0,1/3,1,1/2,0]])\n",
    "\n",
    "# Initialize stationary vector I\n",
    "new_init_I = np.array([1,0,0,0,0,0,0,0])\n",
    "\n",
    "# Perform iterations for power method\n",
    "for _ in range(10):\n",
    "    new_init_I = np.dot(new_adj_mat, new_init_I)\n",
    "    new_init_I /= np.linalg.norm(new_init_I, 1)\n",
    "\n",
    "\n",
    "print(new_init_I)\n",
    "print('='*20)\n",
    "\n",
    "# Code ends here"
   ]
  },
  {
   "cell_type": "markdown",
   "metadata": {},
   "source": [
    "# Modified Power Method"
   ]
  },
  {
   "cell_type": "code",
   "execution_count": 7,
   "metadata": {},
   "outputs": [
    {
     "name": "stdout",
     "output_type": "stream",
     "text": [
      "[0.01875 0.44375 0.44375 0.01875 0.01875 0.01875 0.01875 0.01875]\n",
      "[0.01875    0.220625   0.02671875 0.3959375  0.220625   0.03734375\n",
      " 0.03203125 0.04796875]\n",
      "[0.01875    0.15025651 0.02671875 0.20628125 0.15590104 0.21382943\n",
      " 0.10164714 0.12661589]\n",
      "[0.01875    0.09652057 0.02671875 0.14646803 0.13175186 0.17518007\n",
      " 0.11673371 0.28787701]\n",
      "[0.01875    0.0795735  0.02671875 0.10079249 0.12121657 0.2199267\n",
      " 0.17842742 0.25459458]\n",
      "[0.01875    0.06663209 0.02671875 0.08638747 0.13449499 0.18985526\n",
      " 0.16129739 0.31586404]\n",
      "[0.01875    0.06255067 0.02671875 0.07538728 0.12313331 0.21557558\n",
      " 0.19109913 0.28678528]\n",
      "[0.01875    0.05943395 0.02671875 0.07191807 0.13268233 0.19688124\n",
      " 0.17552151 0.31809415]\n",
      "[0.01875    0.058451   0.02671875 0.06926886 0.1250789  0.21191013\n",
      " 0.19153334 0.29828903]\n",
      "[0.01875    0.05770039 0.02671875 0.06843335 0.13113331 0.20058803\n",
      " 0.18096186 0.3157143 ]\n"
     ]
    }
   ],
   "source": [
    "# Alpha value\n",
    "alpha = 0.85\n",
    "\n",
    "# Code starts here\n",
    "\n",
    "# Modified adjancency matrix\n",
    "G = (alpha*new_adj_mat) + (1-alpha)*(1 / len(new_adj_mat))*np.ones(new_adj_mat.shape)\n",
    "\n",
    "# Initialize stationary vector I\n",
    "final_init_I = np.array([1,0,0,0,0,0,0,0])\n",
    "\n",
    "# Perform iterations for power method\n",
    "for _ in range(10):\n",
    "    final_init_I = np.dot(G, final_init_I)\n",
    "    final_init_I /= np.linalg.norm(final_init_I, 1)\n",
    "    print(final_init_I)\n",
    "    \n",
    "# Code ends here"
   ]
  }
 ],
 "metadata": {
  "kernelspec": {
   "display_name": "Python 3.7.4 64-bit",
   "language": "python",
   "name": "python37464bit3a48687dfd6e4310a39f97d2b0e5d14b"
  },
  "language_info": {
   "codemirror_mode": {
    "name": "ipython",
    "version": 3
   },
   "file_extension": ".py",
   "mimetype": "text/x-python",
   "name": "python",
   "nbconvert_exporter": "python",
   "pygments_lexer": "ipython3",
   "version": "3.7.4"
  }
 },
 "nbformat": 4,
 "nbformat_minor": 4
}
